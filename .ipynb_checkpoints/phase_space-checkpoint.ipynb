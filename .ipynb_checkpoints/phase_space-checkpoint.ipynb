{
 "cells": [
  {
   "cell_type": "code",
   "execution_count": null,
   "metadata": {
    "collapsed": false
   },
   "outputs": [],
   "source": [
    "from IPython.core.display import HTML, display\n",
    "import math\n",
    "import numpy as np\n",
    "import matplotlib.pyplot as plt\n",
    "%matplotlib inline"
   ]
  },
  {
   "cell_type": "markdown",
   "metadata": {},
   "source": [
    "# MATH 046 Final Project"
   ]
  },
  {
   "cell_type": "markdown",
   "metadata": {},
   "source": [
    "<a href=\"https://greydanus.github.io/fractal_tree/index.html\"><img src=\"website.png\" alt=\"Fractal tree website\" style=\"width: 400px;\"/></a>\n",
    "This notebook analyzes the fractal tree simulation hosted at https://greydanus.github.io/fractal_tree/index.html.\n",
    "\n",
    "We reconstruct the simulation in python and plot positions, velocities, and phase space behavior of nodes at different locations in the tree"
   ]
  },
  {
   "cell_type": "markdown",
   "metadata": {},
   "source": [
    "## Helper objects"
   ]
  },
  {
   "cell_type": "markdown",
   "metadata": {},
   "source": [
    "### Vector object"
   ]
  },
  {
   "cell_type": "markdown",
   "metadata": {},
   "source": [
    "This is not the most efficient way of vectorizing operations, but it parallels the JavaScript simulation, allowing us to get closure on numerical errors"
   ]
  },
  {
   "cell_type": "code",
   "execution_count": null,
   "metadata": {
    "collapsed": false
   },
   "outputs": [],
   "source": [
    "# A 2D vector utility\n",
    "class Vec():\n",
    "    def __init__(self, v):\n",
    "        v = np.array(v)\n",
    "        self.v = v.astype(float)\n",
    "    def dist_from(self, w):\n",
    "        return np.sqrt(np.sum(np.power(self.v-w.v,2)))\n",
    "    def length(self):\n",
    "        return np.sqrt(np.sum(np.power(self.v,2)))\n",
    "    def add(self, w):\n",
    "        return Vec(self.v + w.v)\n",
    "    def sub(self, w):\n",
    "        return Vec(self.v - w.v)\n",
    "        return cp\n",
    "    def rotate(self, a):\n",
    "        x = self.v[0]*math.cos(a) + self.v[1]*math.sin(a)\n",
    "        y = -self.v[0]*math.sin(a) + self.v[1]*math.cos(a)\n",
    "        return Vec(np.array([x,y]))\n",
    "    def copy(self):\n",
    "        return Vec(np.array([self.v[0],self.v[1]]))\n",
    "    def scale(self, s):\n",
    "        self.v = self.v * s\n",
    "    def normalize(self):\n",
    "        d = self.length()\n",
    "        self.scale(1.0/d)"
   ]
  },
  {
   "cell_type": "markdown",
   "metadata": {},
   "source": [
    "### Force object"
   ]
  },
  {
   "cell_type": "code",
   "execution_count": null,
   "metadata": {
    "collapsed": false
   },
   "outputs": [],
   "source": [
    "class SinForce():\n",
    "    def __init__(self, initial_force, wavelength):\n",
    "        self.initial_force = initial_force\n",
    "        self.temp = 0\n",
    "        self.wavelength = wavelength\n",
    "    def get_force(self, time):\n",
    "        self.temp = self.initial_force.copy()\n",
    "        self.temp.scale(math.sin(2*math.pi*time/self.wavelength))\n",
    "        return self.temp;\n",
    "    def new_magnitude(self, mag):\n",
    "        if np.abs(mag) > 0:\n",
    "            self.initial_force.normalize();\n",
    "            self.initial_force.scale(mag)\n",
    "    def new_wavelength(self, w):\n",
    "        if w > 0:\n",
    "            self.wavelength = w;\n",
    "    def draw(self, time):\n",
    "#         print \"drew force\"\n",
    "        return"
   ]
  },
  {
   "cell_type": "markdown",
   "metadata": {},
   "source": [
    "## Fractal Tree"
   ]
  },
  {
   "cell_type": "markdown",
   "metadata": {},
   "source": [
    "The tree is built from three objects. The first object contains the root node, a rule for producing branches, and a list of node objects (branches) which in turn link to other node objects (more branches). The Frac object is our only external interface to the Fractal Tree object"
   ]
  },
  {
   "cell_type": "markdown",
   "metadata": {},
   "source": [
    "### Fractal"
   ]
  },
  {
   "cell_type": "markdown",
   "metadata": {},
   "source": [
    "Defines a base node with constants that determine the shape and dynamics of the fractal object"
   ]
  },
  {
   "cell_type": "code",
   "execution_count": null,
   "metadata": {
    "collapsed": false
   },
   "outputs": [],
   "source": [
    "# An abstract fractal object\n",
    "class Fractal():\n",
    "    def __init__(self, world, depth):\n",
    "        #properties\n",
    "        self.isHead = True\n",
    "        self.depth = depth\n",
    "        self.rule = TreeRule(scale=0.6)\n",
    "        self.rad = 30\n",
    "\n",
    "        #translation dynamics\n",
    "        self.m = math.pi*self.rad*self.rad\n",
    "        self.tk = 50\n",
    "        self.rk = .05\n",
    "        self.tDamping = 0.03\n",
    "        self.forceScale = 0.5\n",
    "\n",
    "        self.p = Vec([world.v[0]/2, world.v[1] - self.rad])\n",
    "        self.v = Vec([0,0])\n",
    "        self.a = Vec([0,0])\n",
    "        self.eqLength = 170\n",
    "\n",
    "        #rotation dynamics\n",
    "        self.theta = 0\n",
    "        self.w = 0\n",
    "        self.rDamping = 0\n",
    "        self.eqChildThetas = []\n",
    "\n",
    "        #world\n",
    "        self.world = world\n",
    "        self.data = {}\n",
    "        self.data[\"x\"] = np.zeros((0,2)); self.data[\"v\"] = np.zeros((0,2))\n",
    "\n",
    "        #nodes\n",
    "        self.children = self.rule.getChildren(self)\n",
    "        self.index = 0\n",
    "\n",
    "        for child in self.children:\n",
    "            connection = child.p.sub(self.p)\n",
    "            self.eqChildThetas.append( math.atan2(connection.v[0], connection.v[1]) - self.theta )\n",
    "    def draw(self):\n",
    "#         print \"draw top node\"\n",
    "        for child in self.children:\n",
    "            child.draw();\n",
    "    def tick(self, force):\n",
    "#         print \"tick top node\"\n",
    "        force.scale(self.forceScale)\n",
    "        if len(self.children) > 0:\n",
    "            for child in self.children:\n",
    "                self.data = child.tick(force, self.data)"
   ]
  },
  {
   "cell_type": "markdown",
   "metadata": {},
   "source": [
    "### Node"
   ]
  },
  {
   "cell_type": "markdown",
   "metadata": {},
   "source": [
    "Defines the behavior of any given node in the tree. Each node contains information about its position, velocity, and its position relative to 1) its parent node and 2) its child nodes"
   ]
  },
  {
   "cell_type": "code",
   "execution_count": null,
   "metadata": {
    "collapsed": false
   },
   "outputs": [],
   "source": [
    "# defines node-level behavior of fractal\n",
    "class Node():\n",
    "    def __init__(self, parent, index, p, reportData):\n",
    "        #properties\n",
    "        self.isHead = False;\n",
    "        self.depth = parent.depth - 1;\n",
    "        self.rule = parent.rule;\n",
    "        self.rad = parent.rad * parent.rule.scale;\n",
    "\n",
    "        #translational dynamics\n",
    "        self.m = math.pi*self.rad*self.rad;\n",
    "        self.tk = parent.tk * parent.rule.scale * parent.rule.scale;\n",
    "        self.rk = parent.rk * parent.rule.scale;\n",
    "        self.tDamping = parent.tDamping;\n",
    "\n",
    "        self.p = p;\n",
    "        self.v = parent.v.copy();\n",
    "        self.a = parent.a.copy();\n",
    "        self.eqLength = parent.eqLength*parent.rule.scale;\n",
    "\n",
    "        #rotational dynamics\n",
    "        self.theta = parent.theta;\n",
    "        self.w = parent.w;\n",
    "        self.rDamping = parent.rDamping;\n",
    "\n",
    "        #world\n",
    "        self.world = parent.world;\n",
    "        self.reportData = reportData\n",
    "\n",
    "        #nodes\n",
    "        self.parent = parent;\n",
    "        self.index = index\n",
    "        self.children = self.rule.getChildren(self);\n",
    "\n",
    "        connection = self.p.sub(self.parent.p);\n",
    "        self.eqParentTheta = math.atan2(connection.v[0], connection.v[1]) - self.theta;\n",
    "        self.eqChildThetas = [];\n",
    "        for child in self.children:\n",
    "            connection = child.p.sub(self.p)\n",
    "            self.eqChildThetas.append( math.atan2(connection.v[0], connection.v[1]) - self.theta )\n",
    "    def draw(self):\n",
    "#         print \"draw node \"\n",
    "        for child in self.children:\n",
    "            child.draw();\n",
    "    def tick(self, force, data):\n",
    "        #calculate acceleration\n",
    "        self.a.scale(0);\n",
    "        alpha = 0;\n",
    "        if len(self.children) > 0:\n",
    "            for c, child in enumerate(self.children):\n",
    "                #rotational part\n",
    "                connection = child.p.sub(self.p)\n",
    "                connectionTheta = math.atan2(connection.v[0], connection.v[1]) - self.theta\n",
    "                dtheta = connectionTheta - self.eqChildThetas[c]\n",
    "                if dtheta > math.pi:\n",
    "                    dtheta = -1*math.pi + (dtheta - math.pi)\n",
    "                dtheta = math.sin(dtheta)\n",
    "\n",
    "                if np.abs(dtheta) > 0.00001:\n",
    "                    child_alpha = self.eqLength*(self.rk*dtheta)*2/(self.m*self.rad*self.rad)\n",
    "\n",
    "                    #translational ---> rotational\n",
    "                    a_from_rotation = connection.rotate(-math.pi/2)\n",
    "                    a_from_rotation.normalize()\n",
    "                    a_from_rotation.scale( child.m*math.pow(child.rad,3)*child_alpha/(2*self.m*self.rad) )\n",
    "                    self.a = self.a.add(a_from_rotation);\n",
    "\n",
    "                #translational part\n",
    "                x = self.p.sub(child.p).length() - self.eqLength;\n",
    "                if np.abs(x) > 0.00001:\n",
    "                    child_a = self.p.sub(child.p);\n",
    "                    child_a.normalize();\n",
    "                    child_a.scale(-1*self.tk*x/self.m);\n",
    "                    self.a = self.a.add(child_a);\n",
    "                    \n",
    "\n",
    "        #acceleration from parent\n",
    "        #rotational part\n",
    "        connection = self.parent.p.sub(self.p);\n",
    "        connectionTheta = math.atan2(connection.v[0], connection.v[1]) - self.theta;\n",
    "        dtheta = connectionTheta - self.eqParentTheta;\n",
    "        if dtheta > math.pi:\n",
    "            dtheta = -1*math.pi + (dtheta - math.pi);\n",
    "        dtheta = math.sin(dtheta);\n",
    "\n",
    "        if np.abs(dtheta) > 0.00001:\n",
    "            parent_alpha = self.parent.eqLength*(self.rk*dtheta)*2/(self.m*self.rad*self.rad);\n",
    "\n",
    "            #translational ---> rotational\n",
    "            a_from_rotation = connection.rotate(-math.pi/2);\n",
    "            a_from_rotation.normalize();\n",
    "            a_from_rotation.scale( self.parent.m*math.pow(self.parent.rad,3)*parent_alpha/(2*self.m*self.rad) );\n",
    "            self.a = self.a.add(a_from_rotation);\n",
    "\n",
    "        #translational part\n",
    "        x = self.p.sub(self.parent.p).length() - self.parent.eqLength;\n",
    "        if np.abs(x) > 0.00001:\n",
    "            parent_a = self.p.sub(self.parent.p);\n",
    "            parent_a.normalize();\n",
    "            parent_a.scale(-1*self.tk*x/self.m);\n",
    "            self.a = self.a.add(parent_a);\n",
    "\n",
    "        #add wind to acceleration\n",
    "        wind_a = force.copy();\n",
    "        wind_a.scale(2*self.rad/self.m); # force goes with diameter for objects in 2D system\n",
    "        self.a = self.a.add(wind_a);\n",
    "\n",
    "        #update position, velocity\n",
    "        self.v = self.v.add(self.a);\n",
    "        self.v.v = self.v.v - self.v.v*self.tDamping;\n",
    "        self.p = self.p.add(self.v);\n",
    "#         if self.depth == 4:\n",
    "#             print \"position= \" + str(self.p.v)\n",
    "        \n",
    "        if len(self.children) > 0:\n",
    "            for child in self.children:\n",
    "                newdata = child.tick(force, data)\n",
    "        if self.reportData:\n",
    "            data[\"x\"] = np.concatenate((data[\"x\"], np.reshape(self.p.v,(1,2))),axis=0)\n",
    "            data[\"v\"] = np.concatenate((data[\"v\"], np.reshape(self.v.v,(1,2))),axis=0)\n",
    "        return data"
   ]
  },
  {
   "cell_type": "markdown",
   "metadata": {},
   "source": [
    "### TreeRule"
   ]
  },
  {
   "cell_type": "markdown",
   "metadata": {},
   "source": [
    "Defines how to make new nodes which branch off of a parent node. The new nodes are scaled down by a scaling factor"
   ]
  },
  {
   "cell_type": "code",
   "execution_count": null,
   "metadata": {
    "collapsed": false
   },
   "outputs": [],
   "source": [
    "class TreeRule():\n",
    "    def __init__(self, scale=0.6):\n",
    "        #properties\n",
    "        self.scale = scale;\n",
    "        self.branchAngles = [math.pi/6, -math.pi/6]; #angles of each of the branches\n",
    "    def getChildren(self, parentNode):\n",
    "        children = []\n",
    "        if parentNode.depth > 0:\n",
    "            if parentNode.isHead:\n",
    "                p = parentNode.p.add(Vec([0,-1*parentNode.eqLength]))\n",
    "                index = 0\n",
    "                reportData = False\n",
    "                children.append(Node(parentNode, index, p, reportData))\n",
    "            else:\n",
    "                for i, ba in enumerate(self.branchAngles):\n",
    "                    vector = parentNode.p.sub(parentNode.parent.p)\n",
    "                    vector.scale(self.scale)\n",
    "                    vector = vector.rotate(ba)\n",
    "                    p = parentNode.p.add(vector)\n",
    "                    \n",
    "                    index = i + parentNode.index\n",
    "                    reportData = False\n",
    "                    if False:\n",
    "                        reportData = True\n",
    "                    children.append(Node(parentNode, index, p, reportData))\n",
    "        return children"
   ]
  },
  {
   "cell_type": "markdown",
   "metadata": {},
   "source": [
    "## Inspecting Fractal Tree dynamics"
   ]
  },
  {
   "cell_type": "markdown",
   "metadata": {},
   "source": [
    "### Collect data from simulation"
   ]
  },
  {
   "cell_type": "markdown",
   "metadata": {},
   "source": [
    "First, build a tree with the same parameters used in the JavaScript simulation (https://greydanus.github.io/fractal_tree/index.html). We ran both simulations and obtained the same numerical results for 800 time steps (which is a good estimate of numerical closure).\n",
    "\n",
    "Next, we run the simulation for 10 cycles. At each tier, we're saving the position and velocity information for the nodes in blue circles:\n",
    "<img src=\"leftmost.png\" alt=\"Central nodes\" style=\"width: 200px;\"/>"
   ]
  },
  {
   "cell_type": "code",
   "execution_count": null,
   "metadata": {
    "collapsed": false
   },
   "outputs": [],
   "source": [
    "initial_wav = 800\n",
    "initial_mag = .2\n",
    "cwidth = 700\n",
    "cheight = 500\n",
    "iters = initial_wav*10\n",
    "ntiers = 5\n",
    "frac = Fractal(Vec([cwidth, cheight]), 5); force = SinForce(Vec([initial_mag,0]), initial_wav)\n",
    "\n",
    "node = frac\n",
    "for tier in range(1,ntiers+1):\n",
    "    node=node.children[0]\n",
    "    node.reportData = True\n",
    "for i in range(iters):\n",
    "    frac.tick(force.get_force(i))\n",
    "    \n",
    "tiers = [{}]\n",
    "for tier in range(1,ntiers+1):\n",
    "    tiers.append({});\n",
    "    tiers[tier][\"x\"] = frac.data[\"x\"][tier::ntiers]\n",
    "    tiers[tier][\"v\"] = frac.data[\"v\"][tier::ntiers]"
   ]
  },
  {
   "cell_type": "markdown",
   "metadata": {},
   "source": [
    "### Plot position, velocity, and phase space"
   ]
  },
  {
   "cell_type": "markdown",
   "metadata": {},
   "source": [
    "Given the data we've collected, make velocity, postition, and phase space plots for each of the leftmost nodes. Notice that for this set of parameters, the tree's motion is periodic"
   ]
  },
  {
   "cell_type": "code",
   "execution_count": null,
   "metadata": {
    "collapsed": false
   },
   "outputs": [],
   "source": [
    "order = [4,3,2,1,5] #the order of the tiers is mixed up because data is collected during recursion\n",
    "for tier in range(1,ntiers+1):\n",
    "    print 'Tier ' + str(tier)\n",
    "    x = tiers[tier][\"x\"]; v = tiers[tier][\"v\"];\n",
    "    plt.figure(figsize=(28,4))\n",
    "    \n",
    "    plt.subplot(141) ; plt.title('Position'); plt.xlabel('x'); plt.ylabel('y')\n",
    "    plt.axis([0.0,cwidth,0.0,cheight])\n",
    "    plt.gca().invert_yaxis()\n",
    "    plt.plot(x[:,0], x[:,1],'b-')\n",
    "    \n",
    "    plt.subplot(142) ; plt.title('Velocity'); plt.xlabel('x'); plt.ylabel('y')\n",
    "    plt.plot(v[:,0], v[:,1],'b-')\n",
    "\n",
    "    plt.subplot(143) ; plt.title('Phase space x'); plt.xlabel('x'); plt.ylabel('x\\'')\n",
    "    plt.plot(x[:,0], v[:,0],'b-')\n",
    "\n",
    "    plt.subplot(144) ; plt.title('Phase space y'); plt.xlabel('y'); plt.ylabel('y\\'')\n",
    "    plt.plot(x[:,1], v[:,1],'b-')\n",
    "    \n",
    "    plt.suptitle('Tier ' + str(order[tier-1]))\n",
    "    plt.savefig(str(order[tier-1])+'_leftmost_800.png')\n",
    "    plt.show()"
   ]
  },
  {
   "cell_type": "markdown",
   "metadata": {},
   "source": [
    "### Inspect nodes towards the middle of the tree"
   ]
  },
  {
   "cell_type": "markdown",
   "metadata": {},
   "source": [
    "The motion differs for nodes towards the center of the tree. We're looking at the dynamics of the nodes in blue circles:\n",
    "<img src=\"central.png\" alt=\"Central nodes\" style=\"width: 200px;\"/>"
   ]
  },
  {
   "cell_type": "code",
   "execution_count": null,
   "metadata": {
    "collapsed": false
   },
   "outputs": [],
   "source": [
    "initial_wav = 800\n",
    "initial_mag = .2\n",
    "cwidth = 700\n",
    "cheight = 500\n",
    "iters = initial_wav*10\n",
    "ntiers = 5\n",
    "frac = Fractal(Vec([cwidth, cheight]), 5); force = SinForce(Vec([initial_mag,0]), initial_wav)\n",
    "frac.children[0].reportData = True\n",
    "frac.children[0].children[1].reportData = True\n",
    "frac.children[0].children[1].children[0].reportData = True\n",
    "frac.children[0].children[1].children[0].children[0].reportData = True\n",
    "frac.children[0].children[1].children[0].children[0].children[0].reportData = True\n",
    "\n",
    "for i in range(iters):\n",
    "    frac.tick(force.get_force(i))\n",
    "    \n",
    "tiers = [{}]\n",
    "for tier in range(1,ntiers+1):\n",
    "    tiers.append({});\n",
    "    tiers[tier][\"x\"] = frac.data[\"x\"][tier::ntiers]\n",
    "    tiers[tier][\"v\"] = frac.data[\"v\"][tier::ntiers]"
   ]
  },
  {
   "cell_type": "code",
   "execution_count": null,
   "metadata": {
    "collapsed": false
   },
   "outputs": [],
   "source": [
    "order = [4,3,2,1,5] #the order of the tiers is mixed up because data is collected during recursion\n",
    "for tier in range(1,ntiers+1):\n",
    "    print 'Tier ' + str(tier)\n",
    "    x = tiers[tier][\"x\"]; v = tiers[tier][\"v\"];\n",
    "    plt.figure(figsize=(28,4))\n",
    "    \n",
    "    plt.subplot(141) ; plt.title('Position'); plt.xlabel('x'); plt.ylabel('y')\n",
    "    plt.axis([0.0,cwidth,0.0,cheight])\n",
    "    plt.gca().invert_yaxis()\n",
    "    plt.plot(x[:,0], x[:,1],'b-')\n",
    "    \n",
    "    plt.subplot(142) ; plt.title('Velocity'); plt.xlabel('x'); plt.ylabel('y')\n",
    "    plt.plot(v[:,0], v[:,1],'b-')\n",
    "\n",
    "    plt.subplot(143) ; plt.title('Phase space x'); plt.xlabel('x'); plt.ylabel('x\\'')\n",
    "    plt.plot(x[:,0], v[:,0],'b-')\n",
    "\n",
    "    plt.subplot(144) ; plt.title('Phase space y'); plt.xlabel('y'); plt.ylabel('y\\'')\n",
    "    plt.plot(x[:,1], v[:,1],'b-')\n",
    "    \n",
    "    plt.suptitle('Tier ' + str(order[tier-1]))\n",
    "    plt.savefig(str(order[tier-1])+'_center_800.png')\n",
    "    plt.show()"
   ]
  },
  {
   "cell_type": "markdown",
   "metadata": {},
   "source": [
    "### Test a different wavelength"
   ]
  },
  {
   "cell_type": "markdown",
   "metadata": {},
   "source": [
    "Change the wavelength of the sinusoidal driving (wind) force. Again, we're we're saving the position and velocity information for the nodes in blue circles:\n",
    "<img src=\"leftmost.png\" alt=\"Central nodes\" style=\"width: 200px;\"/>\n",
    "Notice that this simple change makes the system either chaotic or very slow to converge to a cycle"
   ]
  },
  {
   "cell_type": "code",
   "execution_count": null,
   "metadata": {
    "collapsed": true
   },
   "outputs": [],
   "source": [
    "initial_wav = 300\n",
    "initial_mag = .2\n",
    "cwidth = 700\n",
    "cheight = 500\n",
    "iters = initial_wav*10\n",
    "ntiers = 5\n",
    "frac = Fractal(Vec([cwidth, cheight]), 5); force = SinForce(Vec([initial_mag,0]), initial_wav)\n",
    "\n",
    "node = frac\n",
    "for tier in range(1,ntiers+1):\n",
    "    node=node.children[0]\n",
    "    node.reportData = True\n",
    "for i in range(iters):\n",
    "    frac.tick(force.get_force(i))\n",
    "    \n",
    "tiers = [{}]\n",
    "for tier in range(1,ntiers+1):\n",
    "    tiers.append({});\n",
    "    tiers[tier][\"x\"] = frac.data[\"x\"][tier::ntiers]\n",
    "    tiers[tier][\"v\"] = frac.data[\"v\"][tier::ntiers]"
   ]
  },
  {
   "cell_type": "code",
   "execution_count": null,
   "metadata": {
    "collapsed": false
   },
   "outputs": [],
   "source": [
    "order = [4,3,2,1,5] #the order of the tiers is mixed up because data is collected during recursion\n",
    "for tier in range(1,ntiers+1):\n",
    "    print 'Tier ' + str(tier)\n",
    "    x = tiers[tier][\"x\"]; v = tiers[tier][\"v\"];\n",
    "    plt.figure(figsize=(28,4))\n",
    "    \n",
    "    plt.subplot(141) ; plt.title('Position'); plt.xlabel('x'); plt.ylabel('y')\n",
    "    plt.axis([0.0,cwidth,0.0,cheight])\n",
    "    plt.gca().invert_yaxis()\n",
    "    plt.plot(x[:,0], x[:,1],'b-')\n",
    "    \n",
    "    plt.subplot(142) ; plt.title('Velocity'); plt.xlabel('x'); plt.ylabel('y')\n",
    "    plt.plot(v[:,0], v[:,1],'b-')\n",
    "\n",
    "    plt.subplot(143) ; plt.title('Phase space x'); plt.xlabel('x'); plt.ylabel('x\\'')\n",
    "    plt.plot(x[:,0], v[:,0],'b-')\n",
    "\n",
    "    plt.subplot(144) ; plt.title('Phase space y'); plt.xlabel('y'); plt.ylabel('y\\'')\n",
    "    plt.plot(x[:,1], v[:,1],'b-')\n",
    "    \n",
    "    plt.suptitle('Tier ' + str(order[tier-1]))\n",
    "    plt.savefig(str(order[tier-1])+'_leftmost_300.png')\n",
    "    plt.show()"
   ]
  },
  {
   "cell_type": "code",
   "execution_count": null,
   "metadata": {
    "collapsed": false
   },
   "outputs": [],
   "source": [
    "initial_wav = 100\n",
    "initial_mag = .2\n",
    "cwidth = 700\n",
    "cheight = 500\n",
    "iters = initial_wav*10\n",
    "ntiers = 5\n",
    "frac = Fractal(Vec([cwidth, cheight]), 5); force = SinForce(Vec([initial_mag,0]), initial_wav)\n",
    "\n",
    "node = frac\n",
    "for tier in range(1,ntiers+1):\n",
    "    node=node.children[0]\n",
    "    node.reportData = True\n",
    "for i in range(iters):\n",
    "    frac.tick(force.get_force(i))\n",
    "    \n",
    "tiers = [{}]\n",
    "for tier in range(1,ntiers+1):\n",
    "    tiers.append({});\n",
    "    tiers[tier][\"x\"] = frac.data[\"x\"][tier::ntiers]\n",
    "    tiers[tier][\"v\"] = frac.data[\"v\"][tier::ntiers]\n",
    "\n",
    "order = [4,3,2,1,5] #the order of the tiers is mixed up because data is collected during recursion\n",
    "for tier in range(1,ntiers+1):\n",
    "    print 'Tier ' + str(tier)\n",
    "    x = tiers[tier][\"x\"]; v = tiers[tier][\"v\"];\n",
    "    plt.figure(figsize=(28,4))\n",
    "    \n",
    "    plt.subplot(141) ; plt.title('Position'); plt.xlabel('x'); plt.ylabel('y')\n",
    "    plt.axis([0.0,cwidth,0.0,cheight])\n",
    "    plt.gca().invert_yaxis()\n",
    "    plt.plot(x[:,0], x[:,1],'b-')\n",
    "    \n",
    "    plt.subplot(142) ; plt.title('Velocity'); plt.xlabel('x'); plt.ylabel('y')\n",
    "    plt.plot(v[:,0], v[:,1],'b-')\n",
    "\n",
    "    plt.subplot(143) ; plt.title('Phase space x'); plt.xlabel('x'); plt.ylabel('x\\'')\n",
    "    plt.plot(x[:,0], v[:,0],'b-')\n",
    "\n",
    "    plt.subplot(144) ; plt.title('Phase space y'); plt.xlabel('y'); plt.ylabel('y\\'')\n",
    "    plt.plot(x[:,1], v[:,1],'b-')\n",
    "    \n",
    "    plt.suptitle('Tier ' + str(order[tier-1]))\n",
    "    plt.savefig(str(order[tier-1])+'_leftmost_100.png')\n",
    "    plt.show()"
   ]
  },
  {
   "cell_type": "code",
   "execution_count": null,
   "metadata": {
    "collapsed": true
   },
   "outputs": [],
   "source": []
  }
 ],
 "metadata": {
  "kernelspec": {
   "display_name": "Python 2",
   "language": "python",
   "name": "python2"
  },
  "language_info": {
   "codemirror_mode": {
    "name": "ipython",
    "version": 2
   },
   "file_extension": ".py",
   "mimetype": "text/x-python",
   "name": "python",
   "nbconvert_exporter": "python",
   "pygments_lexer": "ipython2",
   "version": "2.7.10"
  }
 },
 "nbformat": 4,
 "nbformat_minor": 0
}
